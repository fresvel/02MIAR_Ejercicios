{
 "cells": [
  {
   "cell_type": "markdown",
   "id": "ceb32cb0-b910-4629-8849-df0b4ac3f1c7",
   "metadata": {},
   "source": [
    "# **Matemáticas para la Inteligencia Artificial*\n",
    "\n",
    "Nombre y Apellidos: Velasteguí Izurieta Homero Javier\n",
    "\n",
    "Url: https://github.com/fresvel/03MIAR_PROYECTO/blob/main/Seminario_Algoritmos.ipynb"
   ]
  }
 ],
 "metadata": {
  "kernelspec": {
   "display_name": "Python 3 (ipykernel)",
   "language": "python",
   "name": "python3"
  },
  "language_info": {
   "codemirror_mode": {
    "name": "ipython",
    "version": 3
   },
   "file_extension": ".py",
   "mimetype": "text/x-python",
   "name": "python",
   "nbconvert_exporter": "python",
   "pygments_lexer": "ipython3",
   "version": "3.12.9"
  }
 },
 "nbformat": 4,
 "nbformat_minor": 5
}
